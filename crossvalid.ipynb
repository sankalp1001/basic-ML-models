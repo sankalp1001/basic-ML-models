{
 "cells": [
  {
   "cell_type": "code",
   "execution_count": 20,
   "id": "0a88e3a0",
   "metadata": {},
   "outputs": [],
   "source": [
    "from sklearn.datasets import load_digits\n",
    "import numpy as np"
   ]
  },
  {
   "cell_type": "code",
   "execution_count": 2,
   "id": "332d3fad",
   "metadata": {},
   "outputs": [
    {
     "data": {
      "text/plain": [
       "['DESCR', 'data', 'feature_names', 'frame', 'images', 'target', 'target_names']"
      ]
     },
     "execution_count": 2,
     "metadata": {},
     "output_type": "execute_result"
    }
   ],
   "source": [
    "digits=load_digits()\n",
    "dir(digits)"
   ]
  },
  {
   "cell_type": "code",
   "execution_count": 3,
   "id": "98216c27",
   "metadata": {},
   "outputs": [],
   "source": [
    "from sklearn.model_selection import KFold\n",
    "from sklearn.svm import SVC\n",
    "from sklearn.linear_model import LogisticRegression\n",
    "from sklearn import tree\n",
    "from sklearn.ensemble import RandomForestClassifier\n",
    "from sklearn.model_selection import train_test_split"
   ]
  },
  {
   "cell_type": "code",
   "execution_count": 23,
   "id": "2e0896c9",
   "metadata": {
    "scrolled": true
   },
   "outputs": [],
   "source": [
    "lr=LogisticRegression(max_iter=10000)\n",
    "lr_scores=[]\n",
    "SVM=SVC()\n",
    "svm_scores=[]\n",
    "Decisiontree=tree.DecisionTreeClassifier()\n",
    "Dt_scores=[]"
   ]
  },
  {
   "cell_type": "code",
   "execution_count": 10,
   "id": "cf9f7a3c",
   "metadata": {},
   "outputs": [],
   "source": [
    "def get_score(model, Xtrain, Ytrain, Xtest, Ytest):\n",
    "    model.fit(Xtrain, Ytrain)\n",
    "    return model.score(Xtest, Ytest)"
   ]
  },
  {
   "cell_type": "code",
   "execution_count": 14,
   "id": "14187316",
   "metadata": {
    "scrolled": true
   },
   "outputs": [
    {
     "name": "stdout",
     "output_type": "stream",
     "text": [
      "Model score: 0.96\n"
     ]
    }
   ],
   "source": [
    "m = LogisticRegression(max_iter=10000)\n",
    "xtr, xts, ytr, yts = train_test_split(digits.data, digits.target, random_state=10)\n",
    "score = get_score(m, xtr, ytr, xts, yts)\n",
    "print(\"Model score:\", score)"
   ]
  },
  {
   "cell_type": "code",
   "execution_count": 24,
   "id": "b9540ec4",
   "metadata": {
    "scrolled": true
   },
   "outputs": [
    {
     "name": "stdout",
     "output_type": "stream",
     "text": [
      "DecisionTree: [0.7829716193656093, 0.8196994991652755, 0.7729549248747913] avg= 0.791875347801892\n",
      "LogisticRegression [0.9282136894824707, 0.9415692821368948, 0.9165275459098498] avg= 0.9287701725097385\n",
      "SVM [0.9666110183639399, 0.9816360601001669, 0.9549248747913188] avg= 0.9677239844184752\n"
     ]
    }
   ],
   "source": [
    "kf=KFold(n_splits=3)\n",
    "for train_index,test_index in kf.split(digits.data):\n",
    "    Xtrain,Xtest=digits.data[train_index],digits.data[test_index]\n",
    "    Ytrain,Ytest=digits.target[train_index],digits.target[test_index]\n",
    "    svm_scores.append(get_score(SVM,Xtrain,Ytrain,Xtest,Ytest))\n",
    "    lr_scores.append(get_score(lr,Xtrain,Ytrain,Xtest,Ytest))\n",
    "    Dt_scores.append(get_score(Decisiontree,Xtrain,Ytrain,Xtest,Ytest))\n",
    "print('DecisionTree:',Dt_scores,'avg=',np.mean(Dt_scores))\n",
    "print('LogisticRegression',lr_scores,'avg=',np.mean(lr_scores))\n",
    "print('SVM',svm_scores,'avg=',np.mean(svm_scores))"
   ]
  },
  {
   "cell_type": "code",
   "execution_count": 33,
   "id": "edc28175",
   "metadata": {},
   "outputs": [],
   "source": [
    "from sklearn.model_selection import cross_val_score"
   ]
  },
  {
   "cell_type": "code",
   "execution_count": 35,
   "id": "3618a125",
   "metadata": {},
   "outputs": [
    {
     "name": "stdout",
     "output_type": "stream",
     "text": [
      "0.9271107395020438\n"
     ]
    },
    {
     "data": {
      "text/plain": [
       "array([0.91333333, 0.92666667, 0.92333333, 0.96655518, 0.92976589,\n",
       "       0.90301003])"
      ]
     },
     "execution_count": 35,
     "metadata": {},
     "output_type": "execute_result"
    }
   ],
   "source": [
    "cv=cross_val_score(lr,digits.data,digits.target,cv=6)\n",
    "print(cv.mean())\n",
    "cv"
   ]
  }
 ],
 "metadata": {
  "kernelspec": {
   "display_name": "Python 3 (ipykernel)",
   "language": "python",
   "name": "python3"
  },
  "language_info": {
   "codemirror_mode": {
    "name": "ipython",
    "version": 3
   },
   "file_extension": ".py",
   "mimetype": "text/x-python",
   "name": "python",
   "nbconvert_exporter": "python",
   "pygments_lexer": "ipython3",
   "version": "3.11.4"
  }
 },
 "nbformat": 4,
 "nbformat_minor": 5
}
